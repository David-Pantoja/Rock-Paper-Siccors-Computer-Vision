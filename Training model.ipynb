{
 "cells": [
  {
   "cell_type": "code",
   "execution_count": 1,
   "metadata": {},
   "outputs": [],
   "source": [
    "from __future__ import print_function\n",
    "import numpy as np\n",
    "import pandas as pd\n",
    "import os\n",
    "import matplotlib.pyplot as plt\n",
    "import matplotlib.image as mpimg\n",
    "\n",
    "%matplotlib inline\n",
    "\n",
    "import torch\n",
    "from torch.autograd import Variable\n",
    "import torchvision\n",
    "import torchvision.transforms as transforms\n",
    "import torch.nn as nn\n",
    "import torch.nn.functional as F\n",
    "import torch.optim as optim\n",
    "from torch.utils.data.dataset import Dataset\n",
    "from torch.utils.data import DataLoader\n",
    "from torchvision import datasets, transforms\n",
    "from torchvision.utils import save_image"
   ]
  },
  {
   "cell_type": "code",
   "execution_count": 2,
   "metadata": {},
   "outputs": [],
   "source": [
    "signs = {'0': 'ROCK', '1': 'PAPER', '2': 'SCISSORS' }"
   ]
  },
  {
   "cell_type": "code",
   "execution_count": 3,
   "metadata": {},
   "outputs": [],
   "source": [
    "class SignsLanguageDataset(Dataset):\n",
    "    \n",
    "    def __init__(self, train = True, transform = None):\n",
    "        \n",
    "        self.train = train\n",
    "        self.transform = transform\n",
    "        \n",
    "        if self.train == True:\n",
    "            self.signs_lang_dataset = pd.read_csv('sign-language-mnist/sign_mnist_train.csv')\n",
    "        else:\n",
    "            self.signs_lang_dataset = pd.read_csv('sign-language-mnist/sign_mnist_test.csv')\n",
    "            \n",
    "        self.X_set = self.signs_lang_dataset.iloc[:, 1:].values\n",
    "        self.y_set = self.signs_lang_dataset.iloc[:, 0].values\n",
    "        \n",
    "        self.X_set = np.reshape(self.X_set, (self.X_set.shape[0], 1, 28, 28)) / 255\n",
    "        self.y_set = np.array(self.y_set)\n",
    "            \n",
    "        \n",
    "    def __getitem__(self, index):\n",
    "        \n",
    "        image = self.X_set[index, :, :]\n",
    "        \n",
    "        label = self.y_set[index]\n",
    "        \n",
    "        sample = {'image_sign': image, 'label': label}\n",
    "        \n",
    "        return sample\n",
    "        \n",
    "    def __len__(self):\n",
    "        return self.X_set.__len__()"
   ]
  },
  {
   "cell_type": "code",
   "execution_count": 4,
   "metadata": {},
   "outputs": [],
   "source": [
    "class Net(nn.Module):\n",
    "    def __init__(self):\n",
    "        super(Net, self).__init__()\n",
    "        \n",
    "        self.conv1 = nn.Conv2d(1, 100, kernel_size = 5)\n",
    "        self.conv2 = nn.Conv2d(100, 80, kernel_size = 5)\n",
    "        \n",
    "        self.pool1 = nn.MaxPool2d(kernel_size = 2, stride = 2, padding = 0)\n",
    "        self.pool2 = nn.MaxPool2d(kernel_size = 2, stride = 2, padding = 0)\n",
    "        \n",
    "        self.batch_norm1 = nn.BatchNorm2d(100)\n",
    "        self.batch_norm2 = nn.BatchNorm2d(80)\n",
    "        \n",
    "        self.fc1 = nn.Linear(1280, 250)\n",
    "        self.fc2 = nn.Linear(250, 25)\n",
    "        \n",
    "    def forward(self, x):\n",
    "        \n",
    "        x = self.conv1(x)\n",
    "        x = self.batch_norm1(x)\n",
    "        x = F.relu(x)\n",
    "        x = self.pool1(x)\n",
    "        \n",
    "        x = self.conv2(x)\n",
    "        x = self.batch_norm2(x)\n",
    "        x = F.relu(x)\n",
    "        x = self.pool2(x)\n",
    "        \n",
    "        x = x.view(x.size(0), -1)\n",
    "        \n",
    "        x = F.relu(self.fc1(x))\n",
    "        x = self.fc2(x)\n",
    "        \n",
    "        x = F.log_softmax(x, dim=1)\n",
    "        \n",
    "        return x"
   ]
  },
  {
   "cell_type": "code",
   "execution_count": 5,
   "metadata": {},
   "outputs": [],
   "source": [
    "def train(model, optimizer, epoch, device, train_loader, log_interval):\n",
    "    model.train()\n",
    "    for batch_idx, data in enumerate(train_loader):\n",
    "        \n",
    "        img = data['image_sign']\n",
    "        img = img.type(torch.FloatTensor).to(device)\n",
    "        target = data['label']\n",
    "        target = target.type(torch.LongTensor).to(device)\n",
    "        \n",
    "        #print(img.shape)\n",
    "        \n",
    "        optimizer.zero_grad()\n",
    "        \n",
    "        output = model(img)\n",
    "        #print(output.shape)\n",
    "        loss = F.nll_loss(output, target)\n",
    "        \n",
    "        loss.backward()\n",
    "        optimizer.step()\n",
    "        \n",
    "        if batch_idx % log_interval == 0:\n",
    "            print('Train Epoch: {} [{}/{} ({:.0f}%)]\\tLoss: {:.6f}'.format(\n",
    "                epoch, batch_idx * len(img), len(train_loader.dataset),\n",
    "                100. * batch_idx / len(train_loader), loss.item()))\n",
    "\n",
    "def test(model, device, test_loader):\n",
    "    model.eval()\n",
    "    test_loss = 0\n",
    "    correct = 0\n",
    "    with torch.no_grad():\n",
    "        for batch_idx, data in enumerate(test_loader):\n",
    "            \n",
    "            img = data['image_sign']\n",
    "            img = img.type(torch.FloatTensor).to(device)\n",
    "            target = data['label']\n",
    "            target = target.type(torch.LongTensor).to(device)\n",
    "            \n",
    "            output = model(img)\n",
    "            test_loss += F.nll_loss(output, target).item() # sum up batch loss\n",
    "            pred = output.max(1, keepdim=True)[1] # get the index of the max log-probability\n",
    "            correct += pred.eq(target.view_as(pred)).sum().item()\n",
    "\n",
    "    test_loss /= len(test_loader.dataset)\n",
    "    print('\\nTest set: Average loss: {:.4f}, Accuracy: {}/{} ({:.0f}%)\\n'.format(\n",
    "        test_loss, correct, len(test_loader.dataset),\n",
    "        100. * correct / len(test_loader.dataset)))"
   ]
  },
  {
   "cell_type": "code",
   "execution_count": 6,
   "metadata": {},
   "outputs": [],
   "source": [
    "batch_size_train = 5\n",
    "batch_size_test = 4\n",
    "\n",
    "dataset_train = SignsLanguageDataset(train = True)\n",
    "dataset_test = SignsLanguageDataset(train = False)\n",
    "train_loader = DataLoader(dataset = dataset_train, batch_size = batch_size_train)\n",
    "test_loader = DataLoader(dataset = dataset_test, batch_size = batch_size_test)"
   ]
  },
  {
   "cell_type": "code",
   "execution_count": 7,
   "metadata": {},
   "outputs": [],
   "source": [
    "torch.manual_seed(123)\n",
    "\n",
    "use_cuda = False                                            \n",
    "device = torch.device(\"cuda\" if use_cuda else \"cpu\")       # can replace use_cuda with torch.cuda.is_available() but Cuda just doesnt work\n",
    "\n",
    "learning_rate = 0.001\n",
    "num_epochs = 12\n",
    "model = Net()\n",
    "optimizer = torch.optim.SGD(model.parameters(), lr = learning_rate, momentum = 0.2, weight_decay = 0.002)\n",
    "\n",
    "log_interval = 27455"
   ]
  },
  {
   "cell_type": "code",
   "execution_count": 8,
   "metadata": {},
   "outputs": [
    {
     "name": "stdout",
     "output_type": "stream",
     "text": [
      "Train Epoch: 1 [0/3217 (0%)]\tLoss: 3.140271\n",
      "\n",
      "Test set: Average loss: 0.7432, Accuracy: 346/1109 (31%)\n",
      "\n",
      "Train Epoch: 2 [0/3217 (0%)]\tLoss: 4.401643\n",
      "\n",
      "Test set: Average loss: 0.2903, Accuracy: 599/1109 (54%)\n",
      "\n",
      "Train Epoch: 3 [0/3217 (0%)]\tLoss: 0.934393\n",
      "\n",
      "Test set: Average loss: 0.1251, Accuracy: 758/1109 (68%)\n",
      "\n",
      "Train Epoch: 4 [0/3217 (0%)]\tLoss: 0.230214\n",
      "\n",
      "Test set: Average loss: 0.0542, Accuracy: 1029/1109 (93%)\n",
      "\n",
      "Train Epoch: 5 [0/3217 (0%)]\tLoss: 0.082287\n",
      "\n",
      "Test set: Average loss: 0.0266, Accuracy: 1067/1109 (96%)\n",
      "\n",
      "Train Epoch: 6 [0/3217 (0%)]\tLoss: 0.039117\n",
      "\n",
      "Test set: Average loss: 0.0155, Accuracy: 1072/1109 (97%)\n",
      "\n",
      "Train Epoch: 7 [0/3217 (0%)]\tLoss: 0.022406\n",
      "\n",
      "Test set: Average loss: 0.0105, Accuracy: 1087/1109 (98%)\n",
      "\n",
      "Train Epoch: 8 [0/3217 (0%)]\tLoss: 0.014504\n",
      "\n",
      "Test set: Average loss: 0.0078, Accuracy: 1108/1109 (100%)\n",
      "\n",
      "Train Epoch: 9 [0/3217 (0%)]\tLoss: 0.010236\n",
      "\n",
      "Test set: Average loss: 0.0063, Accuracy: 1109/1109 (100%)\n",
      "\n",
      "Train Epoch: 10 [0/3217 (0%)]\tLoss: 0.007727\n",
      "\n",
      "Test set: Average loss: 0.0053, Accuracy: 1109/1109 (100%)\n",
      "\n",
      "Train Epoch: 11 [0/3217 (0%)]\tLoss: 0.006128\n",
      "\n",
      "Test set: Average loss: 0.0046, Accuracy: 1109/1109 (100%)\n",
      "\n",
      "Train Epoch: 12 [0/3217 (0%)]\tLoss: 0.005052\n",
      "\n",
      "Test set: Average loss: 0.0042, Accuracy: 1109/1109 (100%)\n",
      "\n"
     ]
    }
   ],
   "source": [
    "for epoch in range(1, num_epochs + 1):\n",
    "    train(model, optimizer, epoch, device, train_loader, log_interval)\n",
    "    test(model, device, test_loader)"
   ]
  },
  {
   "cell_type": "code",
   "execution_count": 9,
   "metadata": {},
   "outputs": [],
   "source": [
    "torch.save(model, 'model_trained.pt')"
   ]
  },
  {
   "cell_type": "code",
   "execution_count": 10,
   "metadata": {},
   "outputs": [
    {
     "data": {
      "text/plain": [
       "'C:\\\\Users\\\\potat\\\\RPS'"
      ]
     },
     "execution_count": 10,
     "metadata": {},
     "output_type": "execute_result"
    }
   ],
   "source": [
    "pwd"
   ]
  },
  {
   "cell_type": "code",
   "execution_count": null,
   "metadata": {},
   "outputs": [],
   "source": []
  }
 ],
 "metadata": {
  "kernelspec": {
   "display_name": "Python 3",
   "language": "python",
   "name": "python3"
  },
  "language_info": {
   "codemirror_mode": {
    "name": "ipython",
    "version": 3
   },
   "file_extension": ".py",
   "mimetype": "text/x-python",
   "name": "python",
   "nbconvert_exporter": "python",
   "pygments_lexer": "ipython3",
   "version": "3.7.7"
  }
 },
 "nbformat": 4,
 "nbformat_minor": 2
}
